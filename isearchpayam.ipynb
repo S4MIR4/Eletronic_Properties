{
 "cells": [
  {
   "cell_type": "code",
   "execution_count": null,
   "metadata": {},
   "outputs": [],
   "source": [
    "import numpy as np\n",
    "import pandas as pd\n",
    "import os\n",
    "import seaborn as sns"
   ]
  },
  {
   "cell_type": "code",
   "execution_count": null,
   "metadata": {},
   "outputs": [],
   "source": [
    "# looping over folders\n",
    "directory = 'C:\\\\aomix2results'\n",
    "folders_list = []\n",
    "for folder in sorted(os.listdir(directory)):\n",
    "\n",
    "    f = os.path.join(directory, folder)\n",
    "    f2 = os.path.join(f, f'{folder}_o-f-CDA')\n",
    "    f3 = os.path.join(f2, 'AOMix-FO.txt')\n",
    "    if os.path.isfile(f3):\n",
    "        folders_list.append(f3)\n",
    "    else:\n",
    "        print(f3)\n",
    "# "
   ]
  },
  {
   "cell_type": "code",
   "execution_count": null,
   "metadata": {},
   "outputs": [],
   "source": [
    "keys = []\n",
    "values_frag1_ufo = []\n",
    "values_frag2_ufo = []\n",
    "values_pol = []\n",
    "values_charge = []\n",
    "\n",
    "folders_list_morethan2_frag_idxs = [21, 29, 59, 68]\n",
    "for txt_file_idx, txt_file in enumerate(folders_list):\n",
    "    if txt_file_idx not in folders_list_morethan2_frag_idxs:\n",
    "        print(txt_file_idx)\n",
    "        keys.append(txt_file)\n",
    "        values_frag1_ufo.append(np.loadtxt(fname=txt_file, skiprows=52, usecols=1, max_rows=1))\n",
    "        values_frag2_ufo.append(np.loadtxt(fname=txt_file, skiprows=52, usecols=2, max_rows=1))\n",
    "        values_pol.append(np.loadtxt(fname=txt_file, skiprows=60, usecols=3, max_rows=1))\n",
    "        values_charge.append(np.loadtxt(fname=txt_file, skiprows=61, usecols=8, max_rows=1))\n",
    "\n",
    "frag1_ufos = dict(zip(keys, values_frag1_ufo))\n",
    "frag2_ufos = dict(zip(keys, values_frag2_ufo))\n",
    "pol = dict(zip(keys, values_pol))\n",
    "charge = dict(zip(keys, values_charge))\n",
    "\n",
    "\n",
    "frag1_ufos[folders_list[21]] = 20.2\n",
    "frag1_ufos[folders_list[29]] = 13.7\n",
    "frag1_ufos[folders_list[59]] = 22.0\n",
    "frag1_ufos[folders_list[68]] = 54.3\n",
    "\n",
    "frag2_ufos[folders_list[21]] = 37.6\n",
    "frag2_ufos[folders_list[29]] = 8.2\n",
    "frag2_ufos[folders_list[59]] = 37.2\n",
    "frag2_ufos[folders_list[68]] = 13.6\n",
    "\n",
    "pol[folders_list[21]] = 'NaN'\n",
    "pol[folders_list[29]] = 'NaN'\n",
    "pol[folders_list[59]] = 'NaN'\n",
    "pol[folders_list[68]] = 'NaN'\n",
    "\n",
    "charge[folders_list[21]] = 'NaN'\n",
    "charge[folders_list[29]] = 'NaN'\n",
    "charge[folders_list[59]] = 'NaN'\n",
    "charge[folders_list[68]] = 'NaN'"
   ]
  },
  {
   "cell_type": "code",
   "execution_count": null,
   "metadata": {},
   "outputs": [],
   "source": [
    "my_dict = {'file_path':list(frag1_ufos.keys()),\n",
    "        'fragment_1_UFO':list(frag1_ufos.values()),\n",
    "        'fragment_2_UFO':list(frag2_ufos.values()),\n",
    "        'Polarization':list(pol.values()),\n",
    "        'Charge_transfer':list(charge.values())}\n",
    "df = pd.DataFrame(my_dict)"
   ]
  },
  {
   "cell_type": "markdown",
   "metadata": {},
   "source": [
    "New Code 8.20.2023"
   ]
  },
  {
   "cell_type": "code",
   "execution_count": null,
   "metadata": {},
   "outputs": [],
   "source": [
    "%matplotlib qt\n",
    "import numpy as np\n",
    "import pandas as pd\n",
    "import os\n",
    "from typing import List, TextIO"
   ]
  },
  {
   "cell_type": "code",
   "execution_count": null,
   "metadata": {},
   "outputs": [],
   "source": [
    "filename = 'C:/codepracticeonlogfile/POPC36water.log'\n",
    "if filename.endswith(\".log\"):\n",
    "    reader: TextIO = open(filename, 'r')\n",
    "    line_list: List[str] = reader.readlines()\n",
    "    for line in reversed(line_list):\n",
    "        if line.lstrip().__contains__('Normal termination of Gaussian'):\n",
    "            result = True\n",
    "            break\n",
    "    reader.close()"
   ]
  },
  {
   "cell_type": "code",
   "execution_count": null,
   "metadata": {},
   "outputs": [],
   "source": [
    "df = sns.load_dataset('iris')\n",
    "sns.violinplot(x=df[\"species\"], y=df[\"sepal_length\"], palette='PiYG')"
   ]
  },
  {
   "cell_type": "markdown",
   "metadata": {},
   "source": [
    "Extracting some Parameters from CDA files"
   ]
  },
  {
   "cell_type": "code",
   "execution_count": null,
   "metadata": {},
   "outputs": [],
   "source": [
    "import numpy as np\n",
    "import pandas as pd\n",
    "import os\n",
    "import matplotlib.pyplot as plt"
   ]
  },
  {
   "cell_type": "code",
   "execution_count": null,
   "metadata": {},
   "outputs": [],
   "source": [
    "# looping over files in the folders\n",
    "directory = 'S:\\\\newaomixresult'\n",
    "folders_list = []\n",
    "folders_list_log = []\n",
    "for folder in sorted(os.listdir(directory)):\n",
    "    f = os.path.join(directory, folder)\n",
    "    f_log = os.path.join(f, f'{folder}.log')\n",
    "    f2 = os.path.join(f, f'{folder}_o-f-CDA')\n",
    "    f3 = os.path.join(f2, 'AOMix-FO.txt')\n",
    "    if os.path.isfile(f_log):\n",
    "        folders_list_log.append(f_log)\n",
    "    if os.path.isfile(f3):\n",
    "        folders_list.append(f3)\n",
    "    else:\n",
    "        print(f3)\n",
    "# "
   ]
  },
  {
   "cell_type": "code",
   "execution_count": null,
   "metadata": {},
   "outputs": [],
   "source": [
    "# extracting some values from txt files\n",
    "values_frag1_ufo = []; values_frag2_ufo = []; values_pol = []; values_charge = []\n",
    "scf_energies = []; meyer_bond_orders = []; bde_evs = []; bde_kc_mols = []\n",
    "sigma_dons = []; back_dons = []; homos = []; lufos_0 = []; lufos_1 = []\n",
    "frag_2_mulliken_charges = []; frag_1_mulliken_charges = []\n",
    "\n",
    "for txt_file, log_file in zip(folders_list, folders_list_log):\n",
    "    \n",
    "    # extracting Fragment 1 UFO\n",
    "    values_frag1_ufo.append(np.loadtxt(fname=txt_file, skiprows=52, usecols=1, max_rows=1))\n",
    "    \n",
    "    # extracting Fragment 2 UFO\n",
    "    values_frag2_ufo.append(np.loadtxt(fname=txt_file, skiprows=52, usecols=2, max_rows=1))\n",
    "    \n",
    "    # extracting dPL\n",
    "    values_pol.append(np.loadtxt(fname=txt_file, skiprows=60, usecols=3, max_rows=1))\n",
    "    \n",
    "    # extracting CT\n",
    "    values_charge.append(np.loadtxt(fname=txt_file, skiprows=61, usecols=8, max_rows=1))\n",
    "    \n",
    "    # extracting SCF and homos and lufos_0 and lufos_1\n",
    "    scfs_lines = []\n",
    "    scf_idxs = []\n",
    "    counter = 0\n",
    "    sub_counter = 0\n",
    "    with open(log_file, 'r') as f:\n",
    "        for line in f:\n",
    "            if \"SCF Done:\" in line:\n",
    "                scfs_lines.append(line)\n",
    "            if \"Population analysis using the SCF Density.\" in line:\n",
    "                scf_idxs.append(counter)\n",
    "            if \"Alpha  occ. eigenvalues --\" in line and counter > 20000: # more probably true (tbc later)\n",
    "                sub_counter += 1\n",
    "            counter += 1 \n",
    "    \n",
    "    line_contain_pop_analysis_idx = scf_idxs[-1]\n",
    "    scf_energies.append(np.array(scfs_lines[-1][25:39]).astype(float))\n",
    "\n",
    "    homos.append(np.loadtxt(fname=log_file, skiprows=line_contain_pop_analysis_idx + sub_counter + 3,\n",
    "                usecols=-1, max_rows=1))\n",
    "    lufos_0.append(np.loadtxt(fname=log_file, skiprows=line_contain_pop_analysis_idx + sub_counter + 4,\n",
    "                usecols=4, max_rows=1))\n",
    "    lufos_1.append(np.loadtxt(fname=log_file, skiprows=line_contain_pop_analysis_idx + sub_counter + 4,\n",
    "                usecols=5, max_rows=1))\n",
    "\n",
    "    counter = 0\n",
    "    with open(txt_file, 'r') as f:\n",
    "        for line in f:\n",
    "            if \"ALPHA-SPIN ORBITALS\" in line:\n",
    "                line_idx_1 = counter\n",
    "            if 'FO contributions (%) to all occupied MOs' in line:\n",
    "                line_idx_2 = counter\n",
    "            counter += 1\n",
    "        \n",
    "    # extracting meyer bond order\n",
    "    meyer_bond_orders.append(np.loadtxt(fname=txt_file, skiprows=line_idx_1+6, usecols=1, max_rows=1))\n",
    "    # extracting bde ev\n",
    "    bde_evs.append(np.loadtxt(fname=txt_file, skiprows=line_idx_1-2, usecols=2, max_rows=1))\n",
    "    # extracting bde kc\n",
    "    bde_kc_mols.append(np.loadtxt(fname=txt_file, skiprows=line_idx_1-2, usecols=4, max_rows=1))\n",
    "    # extracting sigma don\n",
    "    sigma_dons.append(np.loadtxt(fname=txt_file, skiprows=line_idx_2+2, usecols=1, max_rows=1))\n",
    "    # extracting back don\n",
    "    back_dons.append(np.loadtxt(fname=txt_file, skiprows=line_idx_2+2, usecols=2, max_rows=1))\n",
    "    # extracting Mulliken charges for fragment 2\n",
    "    counter = 0\n",
    "    with open(log_file, 'r') as f:\n",
    "        for line in f:\n",
    "            if \"Mulliken charges:\" in line and counter > 20000: # more probably true\n",
    "                mc_line_idx = counter\n",
    "            counter += 1 \n",
    "    frag_2_vals = []\n",
    "    proceed = True\n",
    "    i = 0\n",
    "    while proceed:\n",
    "        h_or_o = np.loadtxt(fname=log_file, skiprows=mc_line_idx+2+i, usecols=1, max_rows=1, dtype='str')\n",
    "        if not (h_or_o == np.array('O') or h_or_o == np.array('H')):\n",
    "            proceed = False\n",
    "            first_line_without_o_or_h = i\n",
    "        frag_2_vals.append(np.loadtxt(fname=log_file, skiprows=mc_line_idx+2+i, usecols=2, max_rows=1, dtype=float)) \n",
    "        i += 1\n",
    "    frag_2_mulliken_charges.append(np.sum(frag_2_vals[:-1]))\n",
    "    \n",
    "    \n",
    "    # extracting Mulliken charges for fragment 1\n",
    "    frag_1_vals = []\n",
    "    proceed = True\n",
    "    ii = 0\n",
    "    while proceed:\n",
    "        h_or_o = np.loadtxt(fname=log_file, skiprows=mc_line_idx+1+i+ii, usecols=1, max_rows=1, dtype='str')\n",
    "        if h_or_o == 'of':\n",
    "            proceed = False\n",
    "            ii -= 1\n",
    "        frag_1_vals.append(np.loadtxt(fname=log_file, skiprows=mc_line_idx+1+i+ii, usecols=2, max_rows=1, dtype=float)) \n",
    "        ii += 1\n",
    "    frag_1_mulliken_charges.append(np.sum(frag_1_vals[:-1]))"
   ]
  },
  {
   "cell_type": "code",
   "execution_count": null,
   "metadata": {},
   "outputs": [],
   "source": [
    "columns = ['IDs', 'SCF Energy', 'Meyer Bond Order', 'Sigma Don', 'Back Don',\n",
    "            'Fragment 1 mulliken charge', 'Fragment 2 mulliken charge',\n",
    "            'Bond Distance Energy (ev)', 'Bond Distance Energy (kc/mol)',\n",
    "            'Homos', 'Lufo 0', 'Lufo 1', 'Fragment 1 UFO', 'Fragment 2 UFO',\n",
    "            'dPL', 'CT']\n",
    "data = [sorted(os.listdir(directory)), scf_energies, meyer_bond_orders, sigma_dons, back_dons,\n",
    "        frag_1_mulliken_charges, frag_2_mulliken_charges, bde_evs, bde_kc_mols, homos, lufos_0,\n",
    "        lufos_1, values_frag1_ufo, values_frag2_ufo, values_pol, values_charge]\n",
    "\n",
    "data = np.array(data).T\n",
    "df = pd.DataFrame(data, columns=columns, dtype=None)"
   ]
  },
  {
   "cell_type": "code",
   "execution_count": null,
   "metadata": {},
   "outputs": [],
   "source": [
    "fig, ax = plt.subplots(1, 1, figsize=(7,7))\n",
    "ax.plot(df['IDs'].values, np.array(df['CT']).astype(float), marker='o')\n",
    "ax.set_xticks(ticks=range(len(df['CT'].values)), labels=df['IDs'].values, rotation=45)\n",
    "ax.set_yticks(ticks=np.linspace(0.03, 0.3, 20))"
   ]
  }
 ],
 "metadata": {
  "kernelspec": {
   "display_name": "base",
   "language": "python",
   "name": "python3"
  },
  "language_info": {
   "codemirror_mode": {
    "name": "ipython",
    "version": 3
   },
   "file_extension": ".py",
   "mimetype": "text/x-python",
   "name": "python",
   "nbconvert_exporter": "python",
   "pygments_lexer": "ipython3",
   "version": "3.10.12"
  },
  "orig_nbformat": 4
 },
 "nbformat": 4,
 "nbformat_minor": 2
}
